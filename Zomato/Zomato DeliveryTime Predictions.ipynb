{
 "cells": [
  {
   "cell_type": "code",
   "execution_count": 1,
   "metadata": {},
   "outputs": [],
   "source": [
    "# importing the libaray\n",
    "import pandas as pd\n",
    "import numpy as np\n",
    "import matplotlib.pyplot as plt"
   ]
  },
  {
   "cell_type": "code",
   "execution_count": 2,
   "metadata": {},
   "outputs": [],
   "source": [
    "# import the train dataset\n",
    "df_train=pd.read_excel('Data_Train.xlsx')"
   ]
  },
  {
   "cell_type": "code",
   "execution_count": 3,
   "metadata": {},
   "outputs": [],
   "source": [
    "# import the test dataset\n",
    "df_test=pd.read_excel('Data_Test.xlsx')"
   ]
  },
  {
   "cell_type": "markdown",
   "metadata": {},
   "source": [
    "# joinig both the file so that operations can be performs on both the files simultaneosuly"
   ]
  },
  {
   "cell_type": "code",
   "execution_count": 4,
   "metadata": {},
   "outputs": [
    {
     "data": {
      "text/html": [
       "<div>\n",
       "<style scoped>\n",
       "    .dataframe tbody tr th:only-of-type {\n",
       "        vertical-align: middle;\n",
       "    }\n",
       "\n",
       "    .dataframe tbody tr th {\n",
       "        vertical-align: top;\n",
       "    }\n",
       "\n",
       "    .dataframe thead th {\n",
       "        text-align: right;\n",
       "    }\n",
       "</style>\n",
       "<table border=\"1\" class=\"dataframe\">\n",
       "  <thead>\n",
       "    <tr style=\"text-align: right;\">\n",
       "      <th></th>\n",
       "      <th>Restaurant</th>\n",
       "      <th>Location</th>\n",
       "      <th>Cuisines</th>\n",
       "      <th>Average_Cost</th>\n",
       "      <th>Minimum_Order</th>\n",
       "      <th>Rating</th>\n",
       "      <th>Votes</th>\n",
       "      <th>Reviews</th>\n",
       "      <th>Delivery_Time</th>\n",
       "    </tr>\n",
       "  </thead>\n",
       "  <tbody>\n",
       "    <tr>\n",
       "      <th>0</th>\n",
       "      <td>ID_6321</td>\n",
       "      <td>FTI College, Law College Road, Pune</td>\n",
       "      <td>Fast Food, Rolls, Burger, Salad, Wraps</td>\n",
       "      <td>₹200</td>\n",
       "      <td>₹50</td>\n",
       "      <td>3.5</td>\n",
       "      <td>12</td>\n",
       "      <td>4</td>\n",
       "      <td>30 minutes</td>\n",
       "    </tr>\n",
       "    <tr>\n",
       "      <th>1</th>\n",
       "      <td>ID_2882</td>\n",
       "      <td>Sector 3, Marathalli</td>\n",
       "      <td>Ice Cream, Desserts</td>\n",
       "      <td>₹100</td>\n",
       "      <td>₹50</td>\n",
       "      <td>3.5</td>\n",
       "      <td>11</td>\n",
       "      <td>4</td>\n",
       "      <td>30 minutes</td>\n",
       "    </tr>\n",
       "    <tr>\n",
       "      <th>2</th>\n",
       "      <td>ID_1595</td>\n",
       "      <td>Mumbai Central</td>\n",
       "      <td>Italian, Street Food, Fast Food</td>\n",
       "      <td>₹150</td>\n",
       "      <td>₹50</td>\n",
       "      <td>3.6</td>\n",
       "      <td>99</td>\n",
       "      <td>30</td>\n",
       "      <td>65 minutes</td>\n",
       "    </tr>\n",
       "    <tr>\n",
       "      <th>3</th>\n",
       "      <td>ID_5929</td>\n",
       "      <td>Sector 1, Noida</td>\n",
       "      <td>Mughlai, North Indian, Chinese</td>\n",
       "      <td>₹250</td>\n",
       "      <td>₹99</td>\n",
       "      <td>3.7</td>\n",
       "      <td>176</td>\n",
       "      <td>95</td>\n",
       "      <td>30 minutes</td>\n",
       "    </tr>\n",
       "    <tr>\n",
       "      <th>4</th>\n",
       "      <td>ID_6123</td>\n",
       "      <td>Rmz Centennial, I Gate, Whitefield</td>\n",
       "      <td>Cafe, Beverages</td>\n",
       "      <td>₹200</td>\n",
       "      <td>₹99</td>\n",
       "      <td>3.2</td>\n",
       "      <td>521</td>\n",
       "      <td>235</td>\n",
       "      <td>65 minutes</td>\n",
       "    </tr>\n",
       "  </tbody>\n",
       "</table>\n",
       "</div>"
      ],
      "text/plain": [
       "  Restaurant                             Location  \\\n",
       "0    ID_6321  FTI College, Law College Road, Pune   \n",
       "1    ID_2882                 Sector 3, Marathalli   \n",
       "2    ID_1595                       Mumbai Central   \n",
       "3    ID_5929                      Sector 1, Noida   \n",
       "4    ID_6123   Rmz Centennial, I Gate, Whitefield   \n",
       "\n",
       "                                 Cuisines Average_Cost Minimum_Order Rating  \\\n",
       "0  Fast Food, Rolls, Burger, Salad, Wraps         ₹200           ₹50    3.5   \n",
       "1                     Ice Cream, Desserts         ₹100           ₹50    3.5   \n",
       "2         Italian, Street Food, Fast Food         ₹150           ₹50    3.6   \n",
       "3          Mughlai, North Indian, Chinese         ₹250           ₹99    3.7   \n",
       "4                         Cafe, Beverages         ₹200           ₹99    3.2   \n",
       "\n",
       "  Votes Reviews Delivery_Time  \n",
       "0    12       4    30 minutes  \n",
       "1    11       4    30 minutes  \n",
       "2    99      30    65 minutes  \n",
       "3   176      95    30 minutes  \n",
       "4   521     235    65 minutes  "
      ]
     },
     "execution_count": 4,
     "metadata": {},
     "output_type": "execute_result"
    }
   ],
   "source": [
    "data=pd.concat([df_train,df_test],sort=False)\n",
    "data.head()"
   ]
  },
  {
   "cell_type": "code",
   "execution_count": 6,
   "metadata": {},
   "outputs": [
    {
     "data": {
      "text/plain": [
       "array(['₹200', '₹100', '₹150', '₹250', '₹650', '₹350', '₹800', '₹50',\n",
       "       '₹400', '₹600', '₹300', '₹750', '₹450', '₹550', '₹1,000', '₹500',\n",
       "       '₹900', '₹1,200', '₹950', '₹850', '₹700', '₹1,150', 'for',\n",
       "       '₹1,100', '₹1,400', '₹2,050'], dtype=object)"
      ]
     },
     "execution_count": 6,
     "metadata": {},
     "output_type": "execute_result"
    }
   ],
   "source": [
    "data.Average_Cost.unique()"
   ]
  },
  {
   "cell_type": "markdown",
   "metadata": {},
   "source": [
    "# To eliminate RS sign"
   ]
  },
  {
   "cell_type": "code",
   "execution_count": 7,
   "metadata": {},
   "outputs": [],
   "source": [
    "data[\"Average_Cost\"]=data[\"Average_Cost\"].str.replace(\"₹\",\"\")"
   ]
  },
  {
   "cell_type": "code",
   "execution_count": 8,
   "metadata": {},
   "outputs": [],
   "source": [
    "data[\"Minimum_Order\"]=data[\"Minimum_Order\"].str.replace(\"₹\",\"\")"
   ]
  },
  {
   "cell_type": "code",
   "execution_count": 9,
   "metadata": {},
   "outputs": [],
   "source": [
    "data[\"Delivery_Time\"]=data[\"Delivery_Time\"].str.replace(\"minutes\",\"\")"
   ]
  },
  {
   "cell_type": "markdown",
   "metadata": {},
   "source": [
    "# Extracting city from address"
   ]
  },
  {
   "cell_type": "code",
   "execution_count": null,
   "metadata": {},
   "outputs": [],
   "source": [
    "data['City.Pune'] = data['Location'].apply(lambda x: 'Pune' if 'Pune' in x else None)\n",
    "data['City.Kolkata'] = data['Location'].apply(lambda x: 'Kolkata' if 'Kolkata' in x else None)\n",
    "data['City.Mumbai'] = data['Location'].apply(lambda x: 'Mumbai' if 'Mumbai' in x else None)\n",
    "data['City.Bangalore'] = data['Location'].apply(lambda x: 'Bangalore' if 'Bangalore' in x else None)\n",
    "data['City.Delhi'] = data['Location'].apply(lambda x: 'Delhi' if 'Delhi' in x else None)\n",
    "data['City.Hyderabad'] = data['Location'].apply(lambda x: 'Hyderabad' if 'Hyderabad' in x else None)\n",
    "data['City.Noida'] = data['Location'].apply(lambda x: 'Noida' if 'Noida' in x else None)\n",
    "data['City.Gurgaon'] = data['Location'].apply(lambda x: 'Gurgaon' if 'Gurgaon' in x else None)\n",
    "data['City.Majestic'] = data['Location'].apply(lambda x: 'Bangalore' if 'Majestic' in x else None)\n",
    "data['City.Marathalli'] = data['Location'].apply(lambda x: 'Bangalore' if 'Marathalli' in x else None)\n",
    "data['City.Electronic'] = data['Location'].apply(lambda x: 'Bangalore' if 'Electronic' in x else None)\n",
    "data['City.Gurgoan'] = data['Location'].apply(lambda x: 'Gurgaon' if 'Gurgoan' in x else None)\n",
    "data['City.Whitefield'] = data['Location'].apply(lambda x: 'Bangalore' if 'Whitefield' in x else None)\n",
    "\n",
    "data['City'] = data['City.Pune'].map(str)+data['City.Kolkata'].map(str)+data['City.Mumbai'].map(str)+data['City.Bangalore'].map(str)+data['City.Delhi'].map(str)+data['City.Hyderabad'].map(str)+data['City.Noida'].map(str)+data['City.Gurgaon'].map(str)+data['City.Majestic'].map(str)+data['City.Marathalli'].map(str)+data['City.Electronic'].map(str)+data['City.Gurgoan'].map(str)+data['City.Whitefield'].map(str)\n",
    "\n",
    "data['City'] = data['City'].apply(lambda x: x.replace('None',''))"
   ]
  },
  {
   "cell_type": "code",
   "execution_count": null,
   "metadata": {},
   "outputs": [],
   "source": [
    "data.head()"
   ]
  },
  {
   "cell_type": "code",
   "execution_count": null,
   "metadata": {},
   "outputs": [],
   "source": [
    "data1=data[['Restaurant','City','Cuisines','Average_Cost','Minimum_Order','Rating','Votes','Reviews','Delivery_Time']]"
   ]
  },
  {
   "cell_type": "code",
   "execution_count": null,
   "metadata": {},
   "outputs": [],
   "source": [
    "data1"
   ]
  },
  {
   "cell_type": "code",
   "execution_count": null,
   "metadata": {},
   "outputs": [],
   "source": [
    "data1.to_csv('Citywisedata.csv')"
   ]
  },
  {
   "cell_type": "code",
   "execution_count": null,
   "metadata": {},
   "outputs": [],
   "source": [
    "# function to count number of cuisines in particular restaurant\n",
    "def countoc(s):\n",
    "    a=s.split(',')\n",
    "    return len(a)"
   ]
  },
  {
   "cell_type": "code",
   "execution_count": null,
   "metadata": {},
   "outputs": [],
   "source": [
    "# To test\n",
    "countoc('Fast Food,Rolls,Burger,Salad,Wraps')"
   ]
  },
  {
   "cell_type": "code",
   "execution_count": null,
   "metadata": {},
   "outputs": [],
   "source": [
    "data1['Count Cuisine']=data1['Cuisines'].apply(lambda x:countoc(x))"
   ]
  },
  {
   "cell_type": "code",
   "execution_count": null,
   "metadata": {},
   "outputs": [],
   "source": [
    "data1.dtypes"
   ]
  },
  {
   "cell_type": "markdown",
   "metadata": {},
   "source": [
    "Converting non numerical values in numberical column to Nan"
   ]
  },
  {
   "cell_type": "code",
   "execution_count": null,
   "metadata": {},
   "outputs": [],
   "source": [
    "cols=['Average_Cost','Minimum_Order','Rating','Votes','Reviews','Delivery_Time']"
   ]
  },
  {
   "cell_type": "code",
   "execution_count": null,
   "metadata": {},
   "outputs": [],
   "source": [
    "data1[cols]=data1[cols].apply(pd.to_numeric,errors='coerce')"
   ]
  },
  {
   "cell_type": "code",
   "execution_count": null,
   "metadata": {},
   "outputs": [],
   "source": [
    "data1.dtypes"
   ]
  },
  {
   "cell_type": "code",
   "execution_count": null,
   "metadata": {},
   "outputs": [],
   "source": [
    "data1.isnull().sum()"
   ]
  },
  {
   "cell_type": "code",
   "execution_count": null,
   "metadata": {},
   "outputs": [],
   "source": [
    "data1['Average_Cost']=data1['Average_Cost'].fillna(data1['Average_Cost'].median())\n",
    "data1['Rating']=data1['Rating'].fillna(data1['Rating'].median())\n",
    "data1['Votes']=data1['Votes'].fillna(data1['Votes'].median())\n",
    "data1['Reviews']=data1['Reviews'].fillna(data1['Reviews'].median())"
   ]
  },
  {
   "cell_type": "code",
   "execution_count": null,
   "metadata": {},
   "outputs": [],
   "source": [
    "data1.isna().sum()"
   ]
  },
  {
   "cell_type": "markdown",
   "metadata": {},
   "source": [
    "Getting Test data before joining from cleaned data"
   ]
  },
  {
   "cell_type": "code",
   "execution_count": null,
   "metadata": {},
   "outputs": [],
   "source": [
    "test=data1[11094:]"
   ]
  },
  {
   "cell_type": "code",
   "execution_count": null,
   "metadata": {},
   "outputs": [],
   "source": [
    "test.head()"
   ]
  },
  {
   "cell_type": "code",
   "execution_count": null,
   "metadata": {},
   "outputs": [],
   "source": [
    "train=data1[:11094]"
   ]
  },
  {
   "cell_type": "code",
   "execution_count": null,
   "metadata": {
    "scrolled": true
   },
   "outputs": [],
   "source": [
    "train.isna().sum()"
   ]
  },
  {
   "cell_type": "markdown",
   "metadata": {},
   "source": [
    "Generating dummy variables for one hot encoding"
   ]
  },
  {
   "cell_type": "code",
   "execution_count": null,
   "metadata": {},
   "outputs": [],
   "source": [
    "x=train[['City','Average_Cost','Minimum_Order','Rating','Votes','Reviews','Count Cuisine']]\n",
    "y=train['Delivery_Time']\n",
    "x=pd.get_dummies(data=x,drop_first=True)"
   ]
  },
  {
   "cell_type": "code",
   "execution_count": null,
   "metadata": {},
   "outputs": [],
   "source": [
    "x1=test[['City','Average_Cost','Minimum_Order','Rating','Votes','Reviews','Count Cuisine']]\n",
    "A=pd.get_dummies(data=x1,drop_first=True)"
   ]
  },
  {
   "cell_type": "markdown",
   "metadata": {},
   "source": [
    "# Visualization"
   ]
  },
  {
   "cell_type": "code",
   "execution_count": null,
   "metadata": {},
   "outputs": [],
   "source": [
    "#city wise distribution of resturant records\n",
    "plt.figure(figsize=(12,6))\n",
    "ax=train.City.value_counts().plot(kind='bar')\n",
    "ax.legend(['Restaurant'])\n",
    "plt.xlabel(\"City\")\n",
    "plt.ylabel(\"Count of Restaurant\")\n",
    "plt.title(\"City VS Number of Restaurant\",fontsize=20,weight='bold')"
   ]
  },
  {
   "cell_type": "code",
   "execution_count": null,
   "metadata": {},
   "outputs": [],
   "source": [
    "#location wise Distribution of Resturant Records\n",
    "plt.figure(figsize=(12,6))\n",
    "names=df_train['Location'].value_counts()[:10].index\n",
    "values=df_train['Location'].value_counts()[:10].values\n",
    "colors=['gold','red','lightcoral','lightskyblue','blue','green','silver']\n",
    "explode=(0.1,0,0,0,0,0,0,0,0,0)\n",
    "\n",
    "plt.pie(values,explode=explode,labels=names,colors=colors,autopct='%1.1f%%',shadow=True,startangle=140)\n",
    "plt.axis('equal')\n",
    "plt.title(\"Percentage\")\n",
    "plt.show()"
   ]
  },
  {
   "cell_type": "code",
   "execution_count": null,
   "metadata": {},
   "outputs": [],
   "source": [
    "import seaborn as sns\n",
    "plt.figure(figsize=(12,6))\n",
    "ax1=sns.countplot(train['Delivery_Time'])\n",
    "plt.title('Number of Restaurants Vs Delivery_Time',weight='bold')\n",
    "plt.xlabel('Delivery_Time')"
   ]
  },
  {
   "cell_type": "code",
   "execution_count": null,
   "metadata": {},
   "outputs": [],
   "source": [
    "plt.figure(figsize=(20,6))\n",
    "ax2=sns.countplot(x=\"Rating\",hue=\"Delivery_Time\",data=train)\n",
    "plt.title('Rating vs Delivery Time distribution',weight='bold')"
   ]
  },
  {
   "cell_type": "code",
   "execution_count": null,
   "metadata": {},
   "outputs": [],
   "source": [
    "plt.figure(figsize=(20,6))\n",
    "ax2=sns.countplot(x=\"City\",hue=\"Delivery_Time\",data=train)\n",
    "plt.title('City vs Delivery Time distribution',weight='bold')"
   ]
  },
  {
   "cell_type": "markdown",
   "metadata": {},
   "source": [
    "# KNN"
   ]
  },
  {
   "cell_type": "code",
   "execution_count": null,
   "metadata": {},
   "outputs": [],
   "source": [
    "#fitting K-NN to the training set\n",
    "from sklearn.neighbors import KNeighborsClassifier\n",
    "classifier=KNeighborsClassifier(n_neighbors=1)\n",
    "classifier.fit(x,y)"
   ]
  },
  {
   "cell_type": "code",
   "execution_count": null,
   "metadata": {},
   "outputs": [],
   "source": [
    "#Applying grid search for find the best model and the best parameters\n",
    "from sklearn.model_selection import GridSearchCV\n",
    "parameters=[{'n_neighbors' : [1,2,3,4,5,6]}]\n",
    "\n",
    "grid_search= GridSearchCV(estimator= classifier,\n",
    "                         param_grid=parameters,\n",
    "                         scoring='accuracy',\n",
    "                         cv=10,\n",
    "                         n_jobs= -1)"
   ]
  },
  {
   "cell_type": "code",
   "execution_count": null,
   "metadata": {},
   "outputs": [],
   "source": [
    "grid_search=grid_search.fit(x, y)\n",
    "best_accuracy=grid_search.best_score_\n",
    "best_parameters=grid_search.best_params_"
   ]
  },
  {
   "cell_type": "code",
   "execution_count": null,
   "metadata": {},
   "outputs": [],
   "source": [
    "best_accuracy"
   ]
  },
  {
   "cell_type": "code",
   "execution_count": null,
   "metadata": {},
   "outputs": [],
   "source": [
    "best_parameters"
   ]
  },
  {
   "cell_type": "markdown",
   "metadata": {},
   "source": [
    "# RandomForestClassifier"
   ]
  },
  {
   "cell_type": "code",
   "execution_count": null,
   "metadata": {},
   "outputs": [],
   "source": [
    "from sklearn.ensemble import RandomForestClassifier\n",
    "from sklearn.model_selection import train_test_split\n",
    "X_train,X_test,y_train,y_test=train_test_split(x, y, test_size = 0.2, random_state = 37)\n",
    "RFC=RandomForestClassifier(random_state=37,n_estimators=50)\n",
    "RFC.fit(X_train,y_train)\n",
    "\n",
    "#X_final=test[['City','Average_Cost','Minimum_Order','Rating','Votes','Reviews','Count Cuisine']]\n",
    "#X_final=pd.get_dummies(data=X_final,drop_first=True)\n",
    "pred=RFC.predict(A)\n",
    "pred"
   ]
  },
  {
   "cell_type": "code",
   "execution_count": null,
   "metadata": {},
   "outputs": [],
   "source": [
    "sub=pd.DataFrame()\n",
    "sub[\"Restaurant\"]=test[\"Restaurant\"]\n",
    "sub[\"Delivery_Time\"]=np.round(pred).astype(int)\n",
    "sub[\"Delivery_Time\"]=sub[\"Delivery_Time\"].astype(str)+\"minutes\"\n",
    "sub.to_excel(\"submission.xlsx\",index=False)\n",
    "sub"
   ]
  },
  {
   "cell_type": "code",
   "execution_count": null,
   "metadata": {},
   "outputs": [],
   "source": []
  }
 ],
 "metadata": {
  "kernelspec": {
   "display_name": "Python 3 (ipykernel)",
   "language": "python",
   "name": "python3"
  },
  "language_info": {
   "codemirror_mode": {
    "name": "ipython",
    "version": 3
   },
   "file_extension": ".py",
   "mimetype": "text/x-python",
   "name": "python",
   "nbconvert_exporter": "python",
   "pygments_lexer": "ipython3",
   "version": "3.9.16"
  }
 },
 "nbformat": 4,
 "nbformat_minor": 2
}
